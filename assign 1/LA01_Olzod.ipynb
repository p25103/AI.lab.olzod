{
 "cells": [
  {
   "cell_type": "code",
   "execution_count": null,
   "metadata": {},
   "outputs": [],
   "source": [
    "import numpy as np\n",
    "import cmath\n",
    "\n",
    "x = 2019 + 2020 * 2021\n",
    "print(x)"
   ]
  },
  {
   "cell_type": "code",
   "execution_count": null,
   "metadata": {},
   "outputs": [],
   "source": [
    "import numpy as np\n",
    "import cmath\n",
    "\n",
    "y = (2019+2020)*2021\n",
    "print(y)"
   ]
  },
  {
   "cell_type": "code",
   "execution_count": null,
   "metadata": {},
   "outputs": [],
   "source": [
    "import numpy as np\n",
    "import math\n",
    "\n",
    "print (math.pow(2020.2021, 19))"
   ]
  },
  {
   "cell_type": "code",
   "execution_count": null,
   "metadata": {},
   "outputs": [],
   "source": [
    "import numpy as np\n",
    "import math\n",
    "\n",
    "a = 2020\n",
    "b = -2021\n",
    "c = -2019\n",
    "\n",
    "d = (b**2) - (4*a*c)\n",
    "\n",
    "x1 = (-b-cmath.sqrt(d))/(2*a)\n",
    "x2 = (-b+cmath.sqrt(d))/(2*a)\n",
    "\n",
    "z = complex(x1, x2)\n",
    "if z.real>0 :\n",
    " print(str(x1))\n",
    "if z.imag>0 :\n",
    " print(str(x2))"
   ]
  },
  {
   "cell_type": "code",
   "execution_count": null,
   "metadata": {},
   "outputs": [],
   "source": [
    "heigh = input(\"Enter Heigh Size? \")\n",
    "  result2 =\"\"\n",
    "  \n",
    "  tall = int(heigh)\n",
    "\n",
    "  if tall>56:\n",
    "    result1 =\"You can ride Space Mountain at Disneyland\"\n",
    "  else:\n",
    "    result1 =\"You can not ride Space Mountain at Disneyland\"\n",
    "\n",
    "  if tall>150:\n",
    "    result2 =\"You are super tall and deserve a witty message\"\n",
    "\n",
    "  print('Result: {first}, {next}%'.format(first=result1, next=result2))"
   ]
  },
  {
   "cell_type": "code",
   "execution_count": null,
   "metadata": {},
   "outputs": [],
   "source": [
    "location = input(\"location name:\")\n",
    "salary = input(\"pay:\")\n",
    "pay=int(salary)\n",
    "\n",
    "if (location==\"California\" and pay>40000) or (location==\"Massachusetts\" and pay>100000) or ((location!=\"California\" or location!=\"Massachusetts\") and pay>60000):\n",
    "  print(\"James can work \")\n",
    "else:  \n",
    "  print(\"James can not work \")"
   ]
  },
  {
   "cell_type": "code",
   "execution_count": null,
   "metadata": {},
   "outputs": [],
   "source": [
    "loopnumber = int(input(\"How many terms? \"))\n",
    "\n",
    "n1, n2 = 0, 1\n",
    "i = 0\n",
    "\n",
    "if loopnumber <= 0:\n",
    "   print(\"Required a positive integer\")\n",
    "elif loopnumber == 1:\n",
    "   print(n1)\n",
    "else:\n",
    "   while i < loopnumber:\n",
    "       print(n1)\n",
    "       nth = n1 + n2\n",
    "       n1 = n2\n",
    "       n2 = nth\n",
    "       i += 1"
   ]
  }
 ],
 "metadata": {
  "kernelspec": {
   "display_name": "Python 3",
   "language": "python",
   "name": "python3"
  },
  "language_info": {
   "codemirror_mode": {
    "name": "ipython",
    "version": 3
   },
   "file_extension": ".py",
   "mimetype": "text/x-python",
   "name": "python",
   "nbconvert_exporter": "python",
   "pygments_lexer": "ipython3",
   "version": "3.8.5"
  }
 },
 "nbformat": 4,
 "nbformat_minor": 4
}
