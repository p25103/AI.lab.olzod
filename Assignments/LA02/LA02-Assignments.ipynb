{
 "metadata": {
  "language_info": {
   "codemirror_mode": {
    "name": "ipython",
    "version": 3
   },
   "file_extension": ".py",
   "mimetype": "text/x-python",
   "name": "python",
   "nbconvert_exporter": "python",
   "pygments_lexer": "ipython3",
   "version": 3
  },
  "orig_nbformat": 2
 },
 "nbformat": 4,
 "nbformat_minor": 2,
 "cells": [
  {
   "source": [
    "# LA02.Assignments\n",
    "## (October 14, 2020)\n",
    "- __Due date: 12:00AM October 21, 2020 (UTC-7)__\n",
    "- Student name:\n",
    "- Student ID:\n",
    "- Student email:"
   ],
   "cell_type": "markdown",
   "metadata": {}
  },
  {
   "source": [
    "# Problem Set 01:\n",
    "\n",
    "- Develop neurons and print truth table of the following 2-input logic gates: AND, OR, NAND, NOR, XOR, XNOR and 1-input NOT gate\n",
    "     \n",
    "_(Notice: use Markdown to explain how you developed a neuron, and to insert images showing the truth table of logic gates before coding)_"
   ],
   "cell_type": "markdown",
   "metadata": {}
  },
  {
   "source": [
    "# Problem Set 02:\n",
    "- Develop neuron and print truth table of XOR gate using only NAND gates\n",
    "- Develop neuron and print truth table of XOR gate using only NOR gates\n",
    "- Develop neuron and print truth table of XNOR gate using only NAND gates\n",
    "- Develop neuron and print truth table of XNOR gate using only NOR gates  \n",
    "\n",
    "_(Notice: use Markdown to explain how you developed a neuron, and to insert images showing the truth table of logic gates before coding)_"
   ],
   "cell_type": "markdown",
   "metadata": {}
  },
  {
   "source": [
    "# Problem Set 03:\n",
    "\n",
    "- Write a program to input an uncertain string *S* of words and space/tab\n",
    "    - Remove space/tab in S\n",
    "    - Remove identical words\n",
    "    - Sort all words in the order of a-z\n",
    "    - Print the output strings\n",
    "- Example:\n",
    "    - Input String: \"hello world and practice makes perfect and hello world again\"\n",
    "    - Output String: \"again and hello makes perfect practice world\"\n",
    "- Tips: \n",
    "    - use *set* to remove identical words, \n",
    "    - use *sorted()* to sort words\n",
    "    - use *split()* to remove space"
   ],
   "cell_type": "markdown",
   "metadata": {}
  },
  {
   "source": [
    "# Problem Set 04:\n",
    "- Write a function to seek for all even numbers and odd numbers in the middle of two number A and B. Print even and odd numbers in 1 and 2020 (including both these two numbers)\n",
    "\n"
   ],
   "cell_type": "markdown",
   "metadata": {}
  },
  {
   "source": [
    "# Problem Set 05: \n",
    "- A website requests an user to input his account password. \n",
    "- Write a program to examize the validity of the password. \n",
    "- The valid password must consists of:\n",
    "    - At least 1 letter in [a-z]\n",
    "    - At least 1 number in [0-9]\n",
    "    - At least a letter in [A-Z] (capital)\n",
    "    - At least one special letter in [$#@]\n",
    "    - At least 6 letters in total\n",
    "    - At most 12 letters in total\n",
    "- The program can accept a list of passwords that are split by commas.\n",
    "- Print all valid passwords in a line and split by commas\n",
    "- Examples:\n",
    "    - Input: ABd1234@1,a F1#,2w3E*,2We3345\n",
    "    - Output: ABd1234@1"
   ],
   "cell_type": "markdown",
   "metadata": {}
  },
  {
   "source": [
    "# Problem Set 06: \n",
    "A robot can move on the ground from an original location *(0,0)*. The robot can move in four directions: *UP*, *DOWN*, *LEFT*, and *RIGHT* with different steps. Supposed that, a user can control the robot using a command format as follows: \n",
    "~~~\n",
    "UP,5,DOWN,3,LEFT,2,RIGHT,4\n",
    "~~~\n",
    "Where, the numbers indicate the steps that robot has to move in the corresponding direction. Robot can move 1 meter in each step.\n",
    "\n",
    "- Write a program to calculate the distance (in meter unit) between the current location of the robot and its original (0,0) location after a user inputs a command to control the robot.\n",
    "- Example: \n",
    "    - Input command: \n",
    "    ~~~\n",
    "    UP,2,DOWN,3,UP,5,RIGHT,2,DOWN,1,LEFT,5\n",
    "    ~~~\n",
    "    - Output: $ D = \\sqrt{pos(0,0)^{2}+pos(X,Y)^{2}} $"
   ],
   "cell_type": "markdown",
   "metadata": {}
  }
 ]
}