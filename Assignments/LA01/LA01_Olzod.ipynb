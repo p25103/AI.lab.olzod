{
 "cells": [
  {
   "cell_type": "code",
   "execution_count": 1,
   "metadata": {},
   "outputs": [
    {
     "output_type": "stream",
     "name": "stdout",
     "text": [
      "4084439\n"
     ]
    }
   ],
   "source": [
    "import numpy as np\n",
    "import cmath\n",
    "\n",
    "x = 2019 + 2020 * 2021\n",
    "print(x)"
   ]
  },
  {
   "cell_type": "code",
   "execution_count": 2,
   "metadata": {},
   "outputs": [
    {
     "output_type": "stream",
     "name": "stdout",
     "text": [
      "8162819\n"
     ]
    }
   ],
   "source": [
    "import numpy as np\n",
    "import cmath\n",
    "\n",
    "y = (2019+2020)*2021\n",
    "print(y)"
   ]
  },
  {
   "cell_type": "code",
   "execution_count": 3,
   "metadata": {},
   "outputs": [
    {
     "output_type": "stream",
     "name": "stdout",
     "text": [
      "6.346021603243804e+62\n"
     ]
    }
   ],
   "source": [
    "import numpy as np\n",
    "import math\n",
    "\n",
    "print (math.pow(2020.2021, 19))"
   ]
  },
  {
   "cell_type": "code",
   "execution_count": 4,
   "metadata": {},
   "outputs": [
    {
     "output_type": "stream",
     "name": "stdout",
     "text": [
      "(1.6181708389900968+0j)\n"
     ]
    }
   ],
   "source": [
    "import numpy as np\n",
    "import math\n",
    "\n",
    "a = 2020\n",
    "b = -2021\n",
    "c = -2019\n",
    "\n",
    "d = (b**2) - (4*a*c)\n",
    "\n",
    "x1 = (-b-cmath.sqrt(d))/(2*a)\n",
    "x2 = (-b+cmath.sqrt(d))/(2*a)\n",
    "\n",
    "z = complex(x1, x2)\n",
    "if z.real>0 :\n",
    " print(str(x1))\n",
    "if z.imag>0 :\n",
    " print(str(x2))"
   ]
  },
  {
   "cell_type": "code",
   "execution_count": 17,
   "metadata": {},
   "outputs": [
    {
     "output_type": "error",
     "ename": "IndentationError",
     "evalue": "unexpected indent (<ipython-input-17-19d0602105af>, line 2)",
     "traceback": [
      "\u001b[1;36m  File \u001b[1;32m\"<ipython-input-17-19d0602105af>\"\u001b[1;36m, line \u001b[1;32m2\u001b[0m\n\u001b[1;33m    result2 =\"\"\u001b[0m\n\u001b[1;37m    ^\u001b[0m\n\u001b[1;31mIndentationError\u001b[0m\u001b[1;31m:\u001b[0m unexpected indent\n"
     ]
    }
   ],
   "source": [
    "heigh = input(\"Enter Heigh Size? \")\n",
    "  result2 =\"\"\n",
    "  \n",
    "  tall = int(heigh)\n",
    "\n",
    "  if tall>56:\n",
    "    result1 =\"You can ride Space Mountain at Disneyland\"\n",
    "  else:\n",
    "    result1 =\"You can not ride Space Mountain at Disneyland\"\n",
    "\n",
    "  if tall>150:\n",
    "    result2 =\"You are super tall and deserve a witty message\"\n",
    "\n",
    "  print('Result: {first}, {next}%'.format(first=result1, next=result2))"
   ]
  },
  {
   "cell_type": "code",
   "execution_count": 12,
   "metadata": {},
   "outputs": [
    {
     "output_type": "stream",
     "name": "stdout",
     "text": [
      "James can work \n"
     ]
    }
   ],
   "source": [
    "location = input(\"location name:\")\n",
    "salary = input(\"pay:\")\n",
    "pay=int(salary)\n",
    "\n",
    "if (location==\"California\" and pay>40000) or (location==\"Massachusetts\" and pay>100000) or ((location!=\"California\" or location!=\"Massachusetts\") and pay>60000):\n",
    "  print(\"James can work \")\n",
    "else:  \n",
    "  print(\"James can not work \")"
   ]
  },
  {
   "cell_type": "code",
   "execution_count": 10,
   "metadata": {},
   "outputs": [
    {
     "output_type": "stream",
     "name": "stdout",
     "text": [
      "0\n1\n1\n2\n3\n5\n8\n13\n21\n34\n"
     ]
    }
   ],
   "source": [
    "loopnumber = int(input(\"How many terms? \"))\n",
    "\n",
    "n1, n2 = 0, 1\n",
    "i = 0\n",
    "\n",
    "if loopnumber <= 0:\n",
    "   print(\"Required a positive integer\")\n",
    "elif loopnumber == 1:\n",
    "   print(n1)\n",
    "else:\n",
    "   while i < loopnumber:\n",
    "       print(n1)\n",
    "       nth = n1 + n2\n",
    "       n1 = n2\n",
    "       n2 = nth\n",
    "       i += 1"
   ]
  }
 ],
 "metadata": {
  "kernelspec": {
   "display_name": "Python 3",
   "language": "python",
   "name": "python3"
  },
  "language_info": {
   "codemirror_mode": {
    "name": "ipython",
    "version": 3
   },
   "file_extension": ".py",
   "mimetype": "text/x-python",
   "name": "python",
   "nbconvert_exporter": "python",
   "pygments_lexer": "ipython3",
   "version": "3.8.3-final"
  }
 },
 "nbformat": 4,
 "nbformat_minor": 4
}